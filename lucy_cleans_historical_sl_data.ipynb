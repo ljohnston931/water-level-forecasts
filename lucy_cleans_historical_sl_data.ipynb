{
 "cells": [
  {
   "cell_type": "code",
   "execution_count": 27,
   "metadata": {},
   "outputs": [],
   "source": [
    "import pandas as pd"
   ]
  },
  {
   "cell_type": "code",
   "execution_count": 28,
   "metadata": {},
   "outputs": [],
   "source": [
    "# Data is from here https://waterdata.usgs.gov/nwis/dv?cb_62614=on&format=html&site_no=10010000&referred_module=sw&period=&begin_date=1857-01-29&end_date=2021-01-28\n",
    "# This header was at the top of data, for reference:\n",
    "# ---------------------------------- WARNING ----------------------------------------\n",
    "# Some of the data that you have obtained from this U.S. Geological Survey database\n",
    "# may not have received Director's approval. Any such data values are qualified\n",
    "# as provisional and are subject to revision. Provisional data are released on the\n",
    "# condition that neither the USGS nor the United States Government may be held liable\n",
    "# for any damages resulting from its use.\n",
    "#\n",
    "# Additional info: https://help.waterdata.usgs.gov/policies/provisional-data-statement\n",
    "#\n",
    "# File-format description:  https://help.waterdata.usgs.gov/faq/about-tab-delimited-output\n",
    "# Automated-retrieval info: https://help.waterdata.usgs.gov/faq/automated-retrievals\n",
    "#\n",
    "# Contact:   gs-w_support_nwisweb@usgs.gov\n",
    "# retrieved: 2021-01-29 23:59:34 EST       (caww01)\n",
    "#\n",
    "# Data for the following 1 site(s) are contained in this file\n",
    "#    USGS 10010000 GREAT SALT LAKE AT SALTAIR BOAT HARBOR, UT\n",
    "# -----------------------------------------------------------------------------------\n",
    "#\n",
    "# Data provided for site 10010000\n",
    "#            TS   parameter     statistic     Description\n",
    "#        178323       62614     00003     Lake or reservoir water surface elevation above NGVD 1929, feet (Mean)\n",
    "#\n",
    "# Data-value qualification codes included in this output:\n",
    "#        \n",
    "#     A  Approved for publication -- Processing and review completed.\n",
    "#     P  Provisional data subject to revision.\n",
    "#     R  Records for these data have been revised. [https://waterdata.usgs.gov/usa/nwis/revision/?site_no=10010000&ts_ids=178323]\n",
    "#     e  Value has been estimated.\n",
    "# "
   ]
  },
  {
   "cell_type": "code",
   "execution_count": 29,
   "metadata": {},
   "outputs": [
    {
     "data": {
      "text/html": [
       "<div>\n",
       "<style scoped>\n",
       "    .dataframe tbody tr th:only-of-type {\n",
       "        vertical-align: middle;\n",
       "    }\n",
       "\n",
       "    .dataframe tbody tr th {\n",
       "        vertical-align: top;\n",
       "    }\n",
       "\n",
       "    .dataframe thead th {\n",
       "        text-align: right;\n",
       "    }\n",
       "</style>\n",
       "<table border=\"1\" class=\"dataframe\">\n",
       "  <thead>\n",
       "    <tr style=\"text-align: right;\">\n",
       "      <th></th>\n",
       "      <th>agency_cd</th>\n",
       "      <th>site_no</th>\n",
       "      <th>178323_62614_00003</th>\n",
       "      <th>178323_62614_00003_cd</th>\n",
       "    </tr>\n",
       "    <tr>\n",
       "      <th>datetime</th>\n",
       "      <th></th>\n",
       "      <th></th>\n",
       "      <th></th>\n",
       "      <th></th>\n",
       "    </tr>\n",
       "  </thead>\n",
       "  <tbody>\n",
       "    <tr>\n",
       "      <th>20d</th>\n",
       "      <td>5s</td>\n",
       "      <td>15s</td>\n",
       "      <td>14n</td>\n",
       "      <td>10s</td>\n",
       "    </tr>\n",
       "    <tr>\n",
       "      <th>1847-10-18</th>\n",
       "      <td>USGS</td>\n",
       "      <td>10010000</td>\n",
       "      <td>4199.80</td>\n",
       "      <td>A:e</td>\n",
       "    </tr>\n",
       "    <tr>\n",
       "      <th>1847-10-19</th>\n",
       "      <td>USGS</td>\n",
       "      <td>10010000</td>\n",
       "      <td>NaN</td>\n",
       "      <td>NaN</td>\n",
       "    </tr>\n",
       "    <tr>\n",
       "      <th>1847-10-20</th>\n",
       "      <td>USGS</td>\n",
       "      <td>10010000</td>\n",
       "      <td>NaN</td>\n",
       "      <td>NaN</td>\n",
       "    </tr>\n",
       "    <tr>\n",
       "      <th>1847-10-21</th>\n",
       "      <td>USGS</td>\n",
       "      <td>10010000</td>\n",
       "      <td>NaN</td>\n",
       "      <td>NaN</td>\n",
       "    </tr>\n",
       "    <tr>\n",
       "      <th>...</th>\n",
       "      <td>...</td>\n",
       "      <td>...</td>\n",
       "      <td>...</td>\n",
       "      <td>...</td>\n",
       "    </tr>\n",
       "    <tr>\n",
       "      <th>2021-01-24</th>\n",
       "      <td>USGS</td>\n",
       "      <td>10010000</td>\n",
       "      <td>4192.4</td>\n",
       "      <td>P</td>\n",
       "    </tr>\n",
       "    <tr>\n",
       "      <th>2021-01-25</th>\n",
       "      <td>USGS</td>\n",
       "      <td>10010000</td>\n",
       "      <td>4192.4</td>\n",
       "      <td>P</td>\n",
       "    </tr>\n",
       "    <tr>\n",
       "      <th>2021-01-26</th>\n",
       "      <td>USGS</td>\n",
       "      <td>10010000</td>\n",
       "      <td>4192.4</td>\n",
       "      <td>P</td>\n",
       "    </tr>\n",
       "    <tr>\n",
       "      <th>2021-01-27</th>\n",
       "      <td>USGS</td>\n",
       "      <td>10010000</td>\n",
       "      <td>4192.3</td>\n",
       "      <td>P</td>\n",
       "    </tr>\n",
       "    <tr>\n",
       "      <th>2021-01-28</th>\n",
       "      <td>USGS</td>\n",
       "      <td>10010000</td>\n",
       "      <td>4192.4</td>\n",
       "      <td>P</td>\n",
       "    </tr>\n",
       "  </tbody>\n",
       "</table>\n",
       "<p>63292 rows × 4 columns</p>\n",
       "</div>"
      ],
      "text/plain": [
       "           agency_cd   site_no 178323_62614_00003 178323_62614_00003_cd\n",
       "datetime                                                               \n",
       "20d               5s       15s                14n                   10s\n",
       "1847-10-18      USGS  10010000            4199.80                   A:e\n",
       "1847-10-19      USGS  10010000                NaN                   NaN\n",
       "1847-10-20      USGS  10010000                NaN                   NaN\n",
       "1847-10-21      USGS  10010000                NaN                   NaN\n",
       "...              ...       ...                ...                   ...\n",
       "2021-01-24      USGS  10010000             4192.4                     P\n",
       "2021-01-25      USGS  10010000             4192.4                     P\n",
       "2021-01-26      USGS  10010000             4192.4                     P\n",
       "2021-01-27      USGS  10010000             4192.3                     P\n",
       "2021-01-28      USGS  10010000             4192.4                     P\n",
       "\n",
       "[63292 rows x 4 columns]"
      ]
     },
     "execution_count": 29,
     "metadata": {},
     "output_type": "execute_result"
    }
   ],
   "source": [
    "df = pd.read_table(\"raw_salt_lake_historical_data.txt\", index_col=2, parse_dates=True)\n",
    "df"
   ]
  },
  {
   "cell_type": "code",
   "execution_count": 30,
   "metadata": {},
   "outputs": [
    {
     "data": {
      "text/html": [
       "<div>\n",
       "<style scoped>\n",
       "    .dataframe tbody tr th:only-of-type {\n",
       "        vertical-align: middle;\n",
       "    }\n",
       "\n",
       "    .dataframe tbody tr th {\n",
       "        vertical-align: top;\n",
       "    }\n",
       "\n",
       "    .dataframe thead th {\n",
       "        text-align: right;\n",
       "    }\n",
       "</style>\n",
       "<table border=\"1\" class=\"dataframe\">\n",
       "  <thead>\n",
       "    <tr style=\"text-align: right;\">\n",
       "      <th></th>\n",
       "      <th>178323_62614_00003</th>\n",
       "    </tr>\n",
       "    <tr>\n",
       "      <th>datetime</th>\n",
       "      <th></th>\n",
       "    </tr>\n",
       "  </thead>\n",
       "  <tbody>\n",
       "    <tr>\n",
       "      <th>1847-10-18</th>\n",
       "      <td>4199.80</td>\n",
       "    </tr>\n",
       "    <tr>\n",
       "      <th>1847-10-19</th>\n",
       "      <td>NaN</td>\n",
       "    </tr>\n",
       "    <tr>\n",
       "      <th>1847-10-20</th>\n",
       "      <td>NaN</td>\n",
       "    </tr>\n",
       "    <tr>\n",
       "      <th>1847-10-21</th>\n",
       "      <td>NaN</td>\n",
       "    </tr>\n",
       "    <tr>\n",
       "      <th>1847-10-22</th>\n",
       "      <td>NaN</td>\n",
       "    </tr>\n",
       "    <tr>\n",
       "      <th>...</th>\n",
       "      <td>...</td>\n",
       "    </tr>\n",
       "    <tr>\n",
       "      <th>2021-01-24</th>\n",
       "      <td>4192.4</td>\n",
       "    </tr>\n",
       "    <tr>\n",
       "      <th>2021-01-25</th>\n",
       "      <td>4192.4</td>\n",
       "    </tr>\n",
       "    <tr>\n",
       "      <th>2021-01-26</th>\n",
       "      <td>4192.4</td>\n",
       "    </tr>\n",
       "    <tr>\n",
       "      <th>2021-01-27</th>\n",
       "      <td>4192.3</td>\n",
       "    </tr>\n",
       "    <tr>\n",
       "      <th>2021-01-28</th>\n",
       "      <td>4192.4</td>\n",
       "    </tr>\n",
       "  </tbody>\n",
       "</table>\n",
       "<p>63291 rows × 1 columns</p>\n",
       "</div>"
      ],
      "text/plain": [
       "           178323_62614_00003\n",
       "datetime                     \n",
       "1847-10-18            4199.80\n",
       "1847-10-19                NaN\n",
       "1847-10-20                NaN\n",
       "1847-10-21                NaN\n",
       "1847-10-22                NaN\n",
       "...                       ...\n",
       "2021-01-24             4192.4\n",
       "2021-01-25             4192.4\n",
       "2021-01-26             4192.4\n",
       "2021-01-27             4192.3\n",
       "2021-01-28             4192.4\n",
       "\n",
       "[63291 rows x 1 columns]"
      ]
     },
     "execution_count": 30,
     "metadata": {},
     "output_type": "execute_result"
    }
   ],
   "source": [
    "# Drop unnecessary rows and columns\n",
    "df = df.iloc[1:]\n",
    "df = df.drop(columns=['agency_cd', 'site_no', '178323_62614_00003_cd'])\n",
    "df"
   ]
  },
  {
   "cell_type": "code",
   "execution_count": 31,
   "metadata": {},
   "outputs": [
    {
     "data": {
      "text/html": [
       "<div>\n",
       "<style scoped>\n",
       "    .dataframe tbody tr th:only-of-type {\n",
       "        vertical-align: middle;\n",
       "    }\n",
       "\n",
       "    .dataframe tbody tr th {\n",
       "        vertical-align: top;\n",
       "    }\n",
       "\n",
       "    .dataframe thead th {\n",
       "        text-align: right;\n",
       "    }\n",
       "</style>\n",
       "<table border=\"1\" class=\"dataframe\">\n",
       "  <thead>\n",
       "    <tr style=\"text-align: right;\">\n",
       "      <th></th>\n",
       "      <th>depth</th>\n",
       "    </tr>\n",
       "    <tr>\n",
       "      <th>datetime</th>\n",
       "      <th></th>\n",
       "    </tr>\n",
       "  </thead>\n",
       "  <tbody>\n",
       "    <tr>\n",
       "      <th>1847-10-18</th>\n",
       "      <td>4199.80</td>\n",
       "    </tr>\n",
       "    <tr>\n",
       "      <th>1847-10-19</th>\n",
       "      <td>NaN</td>\n",
       "    </tr>\n",
       "    <tr>\n",
       "      <th>1847-10-20</th>\n",
       "      <td>NaN</td>\n",
       "    </tr>\n",
       "    <tr>\n",
       "      <th>1847-10-21</th>\n",
       "      <td>NaN</td>\n",
       "    </tr>\n",
       "    <tr>\n",
       "      <th>1847-10-22</th>\n",
       "      <td>NaN</td>\n",
       "    </tr>\n",
       "    <tr>\n",
       "      <th>...</th>\n",
       "      <td>...</td>\n",
       "    </tr>\n",
       "    <tr>\n",
       "      <th>2021-01-24</th>\n",
       "      <td>4192.4</td>\n",
       "    </tr>\n",
       "    <tr>\n",
       "      <th>2021-01-25</th>\n",
       "      <td>4192.4</td>\n",
       "    </tr>\n",
       "    <tr>\n",
       "      <th>2021-01-26</th>\n",
       "      <td>4192.4</td>\n",
       "    </tr>\n",
       "    <tr>\n",
       "      <th>2021-01-27</th>\n",
       "      <td>4192.3</td>\n",
       "    </tr>\n",
       "    <tr>\n",
       "      <th>2021-01-28</th>\n",
       "      <td>4192.4</td>\n",
       "    </tr>\n",
       "  </tbody>\n",
       "</table>\n",
       "<p>63291 rows × 1 columns</p>\n",
       "</div>"
      ],
      "text/plain": [
       "              depth\n",
       "datetime           \n",
       "1847-10-18  4199.80\n",
       "1847-10-19      NaN\n",
       "1847-10-20      NaN\n",
       "1847-10-21      NaN\n",
       "1847-10-22      NaN\n",
       "...             ...\n",
       "2021-01-24   4192.4\n",
       "2021-01-25   4192.4\n",
       "2021-01-26   4192.4\n",
       "2021-01-27   4192.3\n",
       "2021-01-28   4192.4\n",
       "\n",
       "[63291 rows x 1 columns]"
      ]
     },
     "execution_count": 31,
     "metadata": {},
     "output_type": "execute_result"
    }
   ],
   "source": [
    "# This column measures \"Lake or reservoir water surface elevation above NGVD 1929, feet\"\n",
    "df.columns = ['depth']\n",
    "df"
   ]
  },
  {
   "cell_type": "code",
   "execution_count": 40,
   "metadata": {},
   "outputs": [],
   "source": [
    "# Index and depth are type object and need to be converted\n",
    "df.index = pd.to_datetime(df.index)\n",
    "df.depth = pd.to_numeric(df.depth)"
   ]
  },
  {
   "cell_type": "code",
   "execution_count": 45,
   "metadata": {},
   "outputs": [
    {
     "data": {
      "text/plain": [
       "<AxesSubplot:xlabel='datetime'>"
      ]
     },
     "execution_count": 45,
     "metadata": {},
     "output_type": "execute_result"
    },
    {
     "data": {
      "image/png": "[encoded data removed]",
      "text/plain": [
       "<Figure size 432x288 with 1 Axes>"
      ]
     },
     "metadata": {
      "needs_background": "light"
     },
     "output_type": "display_data"
    }
   ],
   "source": [
    "# Plot data\n",
    "df.dropna().plot()"
   ]
  },
  {
   "cell_type": "markdown",
   "metadata": {},
   "source": [
    "Questions:\n",
    "- Seems like it should be possible to get rid of the index title \"datetime\". Anyone know how to do that?\n",
    "- What happened in the 80s that made the water rise so much?\n",
    "- Why does the graph look like that? We have (sparse) data all the way back to 1847, so it seems like it should have drawn lines further back? Answer: I had to put dropna()."
   ]
  },
  {
   "cell_type": "code",
   "execution_count": 44,
   "metadata": {},
   "outputs": [],
   "source": [
    "df.to_csv(\"partially_cleaned_salt_lake_historical_data.csv\")"
   ]
  },
  {
   "cell_type": "code",
   "execution_count": 46,
   "metadata": {},
   "outputs": [
    {
     "data": {
      "text/plain": [
       "13134"
      ]
     },
     "execution_count": 46,
     "metadata": {},
     "output_type": "execute_result"
    }
   ],
   "source": [
    "# How many data points?\n",
    "len(df.dropna())"
   ]
  },
  {
   "cell_type": "code",
   "execution_count": 49,
   "metadata": {},
   "outputs": [
    {
     "data": {
      "text/plain": [
       "<AxesSubplot:xlabel='datetime'>"
      ]
     },
     "execution_count": 49,
     "metadata": {},
     "output_type": "execute_result"
    },
    {
     "data": {
      "image/png": "[encoded data removed]",
      "text/plain": [
       "<Figure size 432x288 with 1 Axes>"
      ]
     },
     "metadata": {
      "needs_background": "light"
     },
     "output_type": "display_data"
    }
   ],
   "source": [
    "# See recent years more clearly\n",
    "df[-3000:].dropna().plot()"
   ]
  },
  {
   "cell_type": "code",
   "execution_count": null,
   "metadata": {},
   "outputs": [],
   "source": []
  }
 ],
 "metadata": {
  "kernelspec": {
   "display_name": "Python 3",
   "language": "python",
   "name": "python3"
  },
  "language_info": {
   "codemirror_mode": {
    "name": "ipython",
    "version": 3
   },
   "file_extension": ".py",
   "mimetype": "text/x-python",
   "name": "python",
   "nbconvert_exporter": "python",
   "pygments_lexer": "ipython3",
   "version": "3.8.7"
  }
 },
 "nbformat": 4,
 "nbformat_minor": 4
}
