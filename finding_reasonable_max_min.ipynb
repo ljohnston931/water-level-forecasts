{
 "cells": [
  {
   "cell_type": "code",
   "execution_count": 57,
   "metadata": {},
   "outputs": [],
   "source": [
    "import pandas as pd\n",
    "import numpy as np\n",
    "import math\n",
    "import matplotlib.pyplot as plt"
   ]
  },
  {
   "cell_type": "code",
   "execution_count": 86,
   "metadata": {},
   "outputs": [
    {
     "data": {
      "text/html": [
       "<div>\n",
       "<style scoped>\n",
       "    .dataframe tbody tr th:only-of-type {\n",
       "        vertical-align: middle;\n",
       "    }\n",
       "\n",
       "    .dataframe tbody tr th {\n",
       "        vertical-align: top;\n",
       "    }\n",
       "\n",
       "    .dataframe thead th {\n",
       "        text-align: right;\n",
       "    }\n",
       "</style>\n",
       "<table border=\"1\" class=\"dataframe\">\n",
       "  <thead>\n",
       "    <tr style=\"text-align: right;\">\n",
       "      <th></th>\n",
       "      <th>PRCP</th>\n",
       "      <th>SNOW</th>\n",
       "      <th>SNWD</th>\n",
       "      <th>TMIN</th>\n",
       "      <th>TMAX</th>\n",
       "      <th>PRCP_US1UTBE0002</th>\n",
       "      <th>SNOW_US1UTBE0002</th>\n",
       "      <th>SNWD_US1UTBE0002</th>\n",
       "      <th>TMIN_US1UTBE0002</th>\n",
       "      <th>TMAX_US1UTBE0002</th>\n",
       "      <th>...</th>\n",
       "      <th>SNOW_USW00053167</th>\n",
       "      <th>SNWD_USW00053167</th>\n",
       "      <th>TMIN_USW00053167</th>\n",
       "      <th>TMAX_USW00053167</th>\n",
       "      <th>PRCP_USW00094097</th>\n",
       "      <th>SNOW_USW00094097</th>\n",
       "      <th>SNWD_USW00094097</th>\n",
       "      <th>TMIN_USW00094097</th>\n",
       "      <th>TMAX_USW00094097</th>\n",
       "      <th>depth</th>\n",
       "    </tr>\n",
       "  </thead>\n",
       "  <tbody>\n",
       "    <tr>\n",
       "      <th>1847-10-18</th>\n",
       "      <td>NaN</td>\n",
       "      <td>NaN</td>\n",
       "      <td>NaN</td>\n",
       "      <td>NaN</td>\n",
       "      <td>NaN</td>\n",
       "      <td>NaN</td>\n",
       "      <td>NaN</td>\n",
       "      <td>NaN</td>\n",
       "      <td>NaN</td>\n",
       "      <td>NaN</td>\n",
       "      <td>...</td>\n",
       "      <td>NaN</td>\n",
       "      <td>NaN</td>\n",
       "      <td>NaN</td>\n",
       "      <td>NaN</td>\n",
       "      <td>NaN</td>\n",
       "      <td>NaN</td>\n",
       "      <td>NaN</td>\n",
       "      <td>NaN</td>\n",
       "      <td>NaN</td>\n",
       "      <td>4199.8</td>\n",
       "    </tr>\n",
       "    <tr>\n",
       "      <th>1848-07-04</th>\n",
       "      <td>NaN</td>\n",
       "      <td>NaN</td>\n",
       "      <td>NaN</td>\n",
       "      <td>NaN</td>\n",
       "      <td>NaN</td>\n",
       "      <td>NaN</td>\n",
       "      <td>NaN</td>\n",
       "      <td>NaN</td>\n",
       "      <td>NaN</td>\n",
       "      <td>NaN</td>\n",
       "      <td>...</td>\n",
       "      <td>NaN</td>\n",
       "      <td>NaN</td>\n",
       "      <td>NaN</td>\n",
       "      <td>NaN</td>\n",
       "      <td>NaN</td>\n",
       "      <td>NaN</td>\n",
       "      <td>NaN</td>\n",
       "      <td>NaN</td>\n",
       "      <td>NaN</td>\n",
       "      <td>4201.0</td>\n",
       "    </tr>\n",
       "    <tr>\n",
       "      <th>1848-09-30</th>\n",
       "      <td>NaN</td>\n",
       "      <td>NaN</td>\n",
       "      <td>NaN</td>\n",
       "      <td>NaN</td>\n",
       "      <td>NaN</td>\n",
       "      <td>NaN</td>\n",
       "      <td>NaN</td>\n",
       "      <td>NaN</td>\n",
       "      <td>NaN</td>\n",
       "      <td>NaN</td>\n",
       "      <td>...</td>\n",
       "      <td>NaN</td>\n",
       "      <td>NaN</td>\n",
       "      <td>NaN</td>\n",
       "      <td>NaN</td>\n",
       "      <td>NaN</td>\n",
       "      <td>NaN</td>\n",
       "      <td>NaN</td>\n",
       "      <td>NaN</td>\n",
       "      <td>NaN</td>\n",
       "      <td>4199.8</td>\n",
       "    </tr>\n",
       "    <tr>\n",
       "      <th>1849-06-16</th>\n",
       "      <td>NaN</td>\n",
       "      <td>NaN</td>\n",
       "      <td>NaN</td>\n",
       "      <td>NaN</td>\n",
       "      <td>NaN</td>\n",
       "      <td>NaN</td>\n",
       "      <td>NaN</td>\n",
       "      <td>NaN</td>\n",
       "      <td>NaN</td>\n",
       "      <td>NaN</td>\n",
       "      <td>...</td>\n",
       "      <td>NaN</td>\n",
       "      <td>NaN</td>\n",
       "      <td>NaN</td>\n",
       "      <td>NaN</td>\n",
       "      <td>NaN</td>\n",
       "      <td>NaN</td>\n",
       "      <td>NaN</td>\n",
       "      <td>NaN</td>\n",
       "      <td>NaN</td>\n",
       "      <td>4201.1</td>\n",
       "    </tr>\n",
       "    <tr>\n",
       "      <th>1849-10-19</th>\n",
       "      <td>NaN</td>\n",
       "      <td>NaN</td>\n",
       "      <td>NaN</td>\n",
       "      <td>NaN</td>\n",
       "      <td>NaN</td>\n",
       "      <td>NaN</td>\n",
       "      <td>NaN</td>\n",
       "      <td>NaN</td>\n",
       "      <td>NaN</td>\n",
       "      <td>NaN</td>\n",
       "      <td>...</td>\n",
       "      <td>NaN</td>\n",
       "      <td>NaN</td>\n",
       "      <td>NaN</td>\n",
       "      <td>NaN</td>\n",
       "      <td>NaN</td>\n",
       "      <td>NaN</td>\n",
       "      <td>NaN</td>\n",
       "      <td>NaN</td>\n",
       "      <td>NaN</td>\n",
       "      <td>4199.9</td>\n",
       "    </tr>\n",
       "    <tr>\n",
       "      <th>...</th>\n",
       "      <td>...</td>\n",
       "      <td>...</td>\n",
       "      <td>...</td>\n",
       "      <td>...</td>\n",
       "      <td>...</td>\n",
       "      <td>...</td>\n",
       "      <td>...</td>\n",
       "      <td>...</td>\n",
       "      <td>...</td>\n",
       "      <td>...</td>\n",
       "      <td>...</td>\n",
       "      <td>...</td>\n",
       "      <td>...</td>\n",
       "      <td>...</td>\n",
       "      <td>...</td>\n",
       "      <td>...</td>\n",
       "      <td>...</td>\n",
       "      <td>...</td>\n",
       "      <td>...</td>\n",
       "      <td>...</td>\n",
       "      <td>...</td>\n",
       "    </tr>\n",
       "    <tr>\n",
       "      <th>2021-03-27</th>\n",
       "      <td>NaN</td>\n",
       "      <td>NaN</td>\n",
       "      <td>NaN</td>\n",
       "      <td>NaN</td>\n",
       "      <td>NaN</td>\n",
       "      <td>NaN</td>\n",
       "      <td>NaN</td>\n",
       "      <td>NaN</td>\n",
       "      <td>NaN</td>\n",
       "      <td>NaN</td>\n",
       "      <td>...</td>\n",
       "      <td>NaN</td>\n",
       "      <td>NaN</td>\n",
       "      <td>NaN</td>\n",
       "      <td>NaN</td>\n",
       "      <td>NaN</td>\n",
       "      <td>NaN</td>\n",
       "      <td>NaN</td>\n",
       "      <td>NaN</td>\n",
       "      <td>NaN</td>\n",
       "      <td>NaN</td>\n",
       "    </tr>\n",
       "    <tr>\n",
       "      <th>2021-03-28</th>\n",
       "      <td>NaN</td>\n",
       "      <td>NaN</td>\n",
       "      <td>NaN</td>\n",
       "      <td>NaN</td>\n",
       "      <td>NaN</td>\n",
       "      <td>NaN</td>\n",
       "      <td>NaN</td>\n",
       "      <td>NaN</td>\n",
       "      <td>NaN</td>\n",
       "      <td>NaN</td>\n",
       "      <td>...</td>\n",
       "      <td>NaN</td>\n",
       "      <td>NaN</td>\n",
       "      <td>NaN</td>\n",
       "      <td>NaN</td>\n",
       "      <td>NaN</td>\n",
       "      <td>NaN</td>\n",
       "      <td>NaN</td>\n",
       "      <td>NaN</td>\n",
       "      <td>NaN</td>\n",
       "      <td>NaN</td>\n",
       "    </tr>\n",
       "    <tr>\n",
       "      <th>2021-03-29</th>\n",
       "      <td>NaN</td>\n",
       "      <td>NaN</td>\n",
       "      <td>NaN</td>\n",
       "      <td>NaN</td>\n",
       "      <td>NaN</td>\n",
       "      <td>NaN</td>\n",
       "      <td>NaN</td>\n",
       "      <td>NaN</td>\n",
       "      <td>NaN</td>\n",
       "      <td>NaN</td>\n",
       "      <td>...</td>\n",
       "      <td>NaN</td>\n",
       "      <td>NaN</td>\n",
       "      <td>NaN</td>\n",
       "      <td>NaN</td>\n",
       "      <td>NaN</td>\n",
       "      <td>NaN</td>\n",
       "      <td>NaN</td>\n",
       "      <td>NaN</td>\n",
       "      <td>NaN</td>\n",
       "      <td>NaN</td>\n",
       "    </tr>\n",
       "    <tr>\n",
       "      <th>2021-03-30</th>\n",
       "      <td>NaN</td>\n",
       "      <td>NaN</td>\n",
       "      <td>NaN</td>\n",
       "      <td>NaN</td>\n",
       "      <td>NaN</td>\n",
       "      <td>NaN</td>\n",
       "      <td>NaN</td>\n",
       "      <td>NaN</td>\n",
       "      <td>NaN</td>\n",
       "      <td>NaN</td>\n",
       "      <td>...</td>\n",
       "      <td>NaN</td>\n",
       "      <td>NaN</td>\n",
       "      <td>NaN</td>\n",
       "      <td>NaN</td>\n",
       "      <td>NaN</td>\n",
       "      <td>NaN</td>\n",
       "      <td>NaN</td>\n",
       "      <td>NaN</td>\n",
       "      <td>NaN</td>\n",
       "      <td>NaN</td>\n",
       "    </tr>\n",
       "    <tr>\n",
       "      <th>2021-03-31</th>\n",
       "      <td>NaN</td>\n",
       "      <td>NaN</td>\n",
       "      <td>NaN</td>\n",
       "      <td>NaN</td>\n",
       "      <td>NaN</td>\n",
       "      <td>NaN</td>\n",
       "      <td>NaN</td>\n",
       "      <td>NaN</td>\n",
       "      <td>NaN</td>\n",
       "      <td>NaN</td>\n",
       "      <td>...</td>\n",
       "      <td>NaN</td>\n",
       "      <td>NaN</td>\n",
       "      <td>NaN</td>\n",
       "      <td>NaN</td>\n",
       "      <td>NaN</td>\n",
       "      <td>NaN</td>\n",
       "      <td>NaN</td>\n",
       "      <td>NaN</td>\n",
       "      <td>NaN</td>\n",
       "      <td>NaN</td>\n",
       "    </tr>\n",
       "  </tbody>\n",
       "</table>\n",
       "<p>47038 rows × 1946 columns</p>\n",
       "</div>"
      ],
      "text/plain": [
       "            PRCP  SNOW  SNWD  TMIN  TMAX  PRCP_US1UTBE0002  SNOW_US1UTBE0002  \\\n",
       "1847-10-18   NaN   NaN   NaN   NaN   NaN               NaN               NaN   \n",
       "1848-07-04   NaN   NaN   NaN   NaN   NaN               NaN               NaN   \n",
       "1848-09-30   NaN   NaN   NaN   NaN   NaN               NaN               NaN   \n",
       "1849-06-16   NaN   NaN   NaN   NaN   NaN               NaN               NaN   \n",
       "1849-10-19   NaN   NaN   NaN   NaN   NaN               NaN               NaN   \n",
       "...          ...   ...   ...   ...   ...               ...               ...   \n",
       "2021-03-27   NaN   NaN   NaN   NaN   NaN               NaN               NaN   \n",
       "2021-03-28   NaN   NaN   NaN   NaN   NaN               NaN               NaN   \n",
       "2021-03-29   NaN   NaN   NaN   NaN   NaN               NaN               NaN   \n",
       "2021-03-30   NaN   NaN   NaN   NaN   NaN               NaN               NaN   \n",
       "2021-03-31   NaN   NaN   NaN   NaN   NaN               NaN               NaN   \n",
       "\n",
       "            SNWD_US1UTBE0002  TMIN_US1UTBE0002  TMAX_US1UTBE0002  ...  \\\n",
       "1847-10-18               NaN               NaN               NaN  ...   \n",
       "1848-07-04               NaN               NaN               NaN  ...   \n",
       "1848-09-30               NaN               NaN               NaN  ...   \n",
       "1849-06-16               NaN               NaN               NaN  ...   \n",
       "1849-10-19               NaN               NaN               NaN  ...   \n",
       "...                      ...               ...               ...  ...   \n",
       "2021-03-27               NaN               NaN               NaN  ...   \n",
       "2021-03-28               NaN               NaN               NaN  ...   \n",
       "2021-03-29               NaN               NaN               NaN  ...   \n",
       "2021-03-30               NaN               NaN               NaN  ...   \n",
       "2021-03-31               NaN               NaN               NaN  ...   \n",
       "\n",
       "            SNOW_USW00053167  SNWD_USW00053167  TMIN_USW00053167  \\\n",
       "1847-10-18               NaN               NaN               NaN   \n",
       "1848-07-04               NaN               NaN               NaN   \n",
       "1848-09-30               NaN               NaN               NaN   \n",
       "1849-06-16               NaN               NaN               NaN   \n",
       "1849-10-19               NaN               NaN               NaN   \n",
       "...                      ...               ...               ...   \n",
       "2021-03-27               NaN               NaN               NaN   \n",
       "2021-03-28               NaN               NaN               NaN   \n",
       "2021-03-29               NaN               NaN               NaN   \n",
       "2021-03-30               NaN               NaN               NaN   \n",
       "2021-03-31               NaN               NaN               NaN   \n",
       "\n",
       "            TMAX_USW00053167  PRCP_USW00094097  SNOW_USW00094097  \\\n",
       "1847-10-18               NaN               NaN               NaN   \n",
       "1848-07-04               NaN               NaN               NaN   \n",
       "1848-09-30               NaN               NaN               NaN   \n",
       "1849-06-16               NaN               NaN               NaN   \n",
       "1849-10-19               NaN               NaN               NaN   \n",
       "...                      ...               ...               ...   \n",
       "2021-03-27               NaN               NaN               NaN   \n",
       "2021-03-28               NaN               NaN               NaN   \n",
       "2021-03-29               NaN               NaN               NaN   \n",
       "2021-03-30               NaN               NaN               NaN   \n",
       "2021-03-31               NaN               NaN               NaN   \n",
       "\n",
       "            SNWD_USW00094097  TMIN_USW00094097  TMAX_USW00094097   depth  \n",
       "1847-10-18               NaN               NaN               NaN  4199.8  \n",
       "1848-07-04               NaN               NaN               NaN  4201.0  \n",
       "1848-09-30               NaN               NaN               NaN  4199.8  \n",
       "1849-06-16               NaN               NaN               NaN  4201.1  \n",
       "1849-10-19               NaN               NaN               NaN  4199.9  \n",
       "...                      ...               ...               ...     ...  \n",
       "2021-03-27               NaN               NaN               NaN     NaN  \n",
       "2021-03-28               NaN               NaN               NaN     NaN  \n",
       "2021-03-29               NaN               NaN               NaN     NaN  \n",
       "2021-03-30               NaN               NaN               NaN     NaN  \n",
       "2021-03-31               NaN               NaN               NaN     NaN  \n",
       "\n",
       "[47038 rows x 1946 columns]"
      ]
     },
     "execution_count": 86,
     "metadata": {},
     "output_type": "execute_result"
    }
   ],
   "source": [
    "df = pd.read_csv(\"GSL_drainage_basin_dataset.csv\", index_col=0)\n",
    "df"
   ]
  },
  {
   "cell_type": "code",
   "execution_count": 87,
   "metadata": {},
   "outputs": [],
   "source": [
    "for col in df.columns:\n",
    "    df[col] = df[col].astype(float)"
   ]
  },
  {
   "cell_type": "code",
   "execution_count": 88,
   "metadata": {},
   "outputs": [
    {
     "name": "stdout",
     "output_type": "stream",
     "text": [
      "Precipitation Min: 0.0 Max: 20320.0 Mean: 15.340807543835771\n"
     ]
    }
   ],
   "source": [
    "prcp_df = df[df.columns[:-1:5]]\n",
    "print(\"Precipitation Min:\", prcp_df.min().min(), \"Max:\", prcp_df.max().max(), \"Mean:\", prcp_df.mean().mean())"
   ]
  },
  {
   "cell_type": "code",
   "execution_count": 63,
   "metadata": {},
   "outputs": [
    {
     "data": {
      "image/png": "[encoded data removed]",
      "text/plain": [
       "<Figure size 432x288 with 1 Axes>"
      ]
     },
     "metadata": {
      "needs_background": "light"
     },
     "output_type": "display_data"
    }
   ],
   "source": [
    "prcp = prcp_df.values.reshape(-1)\n",
    "plt.hist(prcp)\n",
    "plt.show()"
   ]
  },
  {
   "cell_type": "code",
   "execution_count": 89,
   "metadata": {},
   "outputs": [
    {
     "data": {
      "text/plain": [
       "Index(['PRCP_USC00421918', 'PRCP_USC00423485', 'PRCP_USC00424746',\n",
       "       'PRCP_USC00426414', 'PRCP_USC00426644', 'PRCP_USC00426652',\n",
       "       'PRCP_USC00427885', 'PRCP_USC00428640', 'PRCP_USC00428922'],\n",
       "      dtype='object')"
      ]
     },
     "execution_count": 89,
     "metadata": {},
     "output_type": "execute_result"
    }
   ],
   "source": [
    "prcp_df.columns[prcp_df[prcp_df > 2500].count() > 0]"
   ]
  },
  {
   "cell_type": "code",
   "execution_count": 90,
   "metadata": {},
   "outputs": [
    {
     "data": {
      "text/plain": [
       "1982-08-03    16256.0\n",
       "Name: PRCP_USC00426414, dtype: float64"
      ]
     },
     "execution_count": 90,
     "metadata": {},
     "output_type": "execute_result"
    }
   ],
   "source": [
    "prcp_df['PRCP_USC00426414'].loc[prcp_df['PRCP_USC00426414'] > 2500]"
   ]
  },
  {
   "cell_type": "code",
   "execution_count": 91,
   "metadata": {},
   "outputs": [
    {
     "data": {
      "text/plain": [
       "<AxesSubplot:>"
      ]
     },
     "execution_count": 91,
     "metadata": {},
     "output_type": "execute_result"
    },
    {
     "data": {
      "image/png": "[encoded data removed]",
      "text/plain": [
       "<Figure size 432x288 with 1 Axes>"
      ]
     },
     "metadata": {
      "needs_background": "light"
     },
     "output_type": "display_data"
    }
   ],
   "source": [
    "prcp_df['PRCP_USC00428922'].plot()"
   ]
  },
  {
   "cell_type": "code",
   "execution_count": 95,
   "metadata": {},
   "outputs": [],
   "source": [
    "prcp_df_lower = prcp_df.apply(lambda x: [y if y <= 500 else np.nan for y in x])"
   ]
  },
  {
   "cell_type": "code",
   "execution_count": 96,
   "metadata": {},
   "outputs": [
    {
     "data": {
      "image/png": "[encoded data removed]",
      "text/plain": [
       "<Figure size 432x288 with 1 Axes>"
      ]
     },
     "metadata": {
      "needs_background": "light"
     },
     "output_type": "display_data"
    }
   ],
   "source": [
    "prcp = prcp_df_lower.values.reshape(-1)\n",
    "plt.hist(prcp)\n",
    "plt.show()"
   ]
  },
  {
   "cell_type": "code",
   "execution_count": 93,
   "metadata": {},
   "outputs": [
    {
     "data": {
      "text/html": [
       "<div>\n",
       "<style scoped>\n",
       "    .dataframe tbody tr th:only-of-type {\n",
       "        vertical-align: middle;\n",
       "    }\n",
       "\n",
       "    .dataframe tbody tr th {\n",
       "        vertical-align: top;\n",
       "    }\n",
       "\n",
       "    .dataframe thead th {\n",
       "        text-align: right;\n",
       "    }\n",
       "</style>\n",
       "<table border=\"1\" class=\"dataframe\">\n",
       "  <thead>\n",
       "    <tr style=\"text-align: right;\">\n",
       "      <th></th>\n",
       "      <th>PRCP</th>\n",
       "      <th>PRCP_US1UTBE0002</th>\n",
       "      <th>PRCP_US1UTBE0003</th>\n",
       "      <th>PRCP_US1UTBE0004</th>\n",
       "      <th>PRCP_US1UTBE0005</th>\n",
       "      <th>PRCP_US1UTBE0006</th>\n",
       "      <th>PRCP_US1UTBE0008</th>\n",
       "      <th>PRCP_US1UTBE0009</th>\n",
       "      <th>PRCP_US1UTBE0010</th>\n",
       "      <th>PRCP_US1UTBE0011</th>\n",
       "      <th>...</th>\n",
       "      <th>PRCP_USW00024111</th>\n",
       "      <th>PRCP_USW00024120</th>\n",
       "      <th>PRCP_USW00024122</th>\n",
       "      <th>PRCP_USW00024125</th>\n",
       "      <th>PRCP_USW00024126</th>\n",
       "      <th>PRCP_USW00024127</th>\n",
       "      <th>PRCP_USW00024175</th>\n",
       "      <th>PRCP_USW00024193</th>\n",
       "      <th>PRCP_USW00053167</th>\n",
       "      <th>PRCP_USW00094097</th>\n",
       "    </tr>\n",
       "  </thead>\n",
       "  <tbody>\n",
       "    <tr>\n",
       "      <th>1847-10-18</th>\n",
       "      <td>NaN</td>\n",
       "      <td>NaN</td>\n",
       "      <td>NaN</td>\n",
       "      <td>NaN</td>\n",
       "      <td>NaN</td>\n",
       "      <td>NaN</td>\n",
       "      <td>NaN</td>\n",
       "      <td>NaN</td>\n",
       "      <td>NaN</td>\n",
       "      <td>NaN</td>\n",
       "      <td>...</td>\n",
       "      <td>NaN</td>\n",
       "      <td>NaN</td>\n",
       "      <td>NaN</td>\n",
       "      <td>NaN</td>\n",
       "      <td>NaN</td>\n",
       "      <td>NaN</td>\n",
       "      <td>NaN</td>\n",
       "      <td>NaN</td>\n",
       "      <td>NaN</td>\n",
       "      <td>NaN</td>\n",
       "    </tr>\n",
       "    <tr>\n",
       "      <th>1848-07-04</th>\n",
       "      <td>NaN</td>\n",
       "      <td>NaN</td>\n",
       "      <td>NaN</td>\n",
       "      <td>NaN</td>\n",
       "      <td>NaN</td>\n",
       "      <td>NaN</td>\n",
       "      <td>NaN</td>\n",
       "      <td>NaN</td>\n",
       "      <td>NaN</td>\n",
       "      <td>NaN</td>\n",
       "      <td>...</td>\n",
       "      <td>NaN</td>\n",
       "      <td>NaN</td>\n",
       "      <td>NaN</td>\n",
       "      <td>NaN</td>\n",
       "      <td>NaN</td>\n",
       "      <td>NaN</td>\n",
       "      <td>NaN</td>\n",
       "      <td>NaN</td>\n",
       "      <td>NaN</td>\n",
       "      <td>NaN</td>\n",
       "    </tr>\n",
       "    <tr>\n",
       "      <th>1848-09-30</th>\n",
       "      <td>NaN</td>\n",
       "      <td>NaN</td>\n",
       "      <td>NaN</td>\n",
       "      <td>NaN</td>\n",
       "      <td>NaN</td>\n",
       "      <td>NaN</td>\n",
       "      <td>NaN</td>\n",
       "      <td>NaN</td>\n",
       "      <td>NaN</td>\n",
       "      <td>NaN</td>\n",
       "      <td>...</td>\n",
       "      <td>NaN</td>\n",
       "      <td>NaN</td>\n",
       "      <td>NaN</td>\n",
       "      <td>NaN</td>\n",
       "      <td>NaN</td>\n",
       "      <td>NaN</td>\n",
       "      <td>NaN</td>\n",
       "      <td>NaN</td>\n",
       "      <td>NaN</td>\n",
       "      <td>NaN</td>\n",
       "    </tr>\n",
       "    <tr>\n",
       "      <th>1849-06-16</th>\n",
       "      <td>NaN</td>\n",
       "      <td>NaN</td>\n",
       "      <td>NaN</td>\n",
       "      <td>NaN</td>\n",
       "      <td>NaN</td>\n",
       "      <td>NaN</td>\n",
       "      <td>NaN</td>\n",
       "      <td>NaN</td>\n",
       "      <td>NaN</td>\n",
       "      <td>NaN</td>\n",
       "      <td>...</td>\n",
       "      <td>NaN</td>\n",
       "      <td>NaN</td>\n",
       "      <td>NaN</td>\n",
       "      <td>NaN</td>\n",
       "      <td>NaN</td>\n",
       "      <td>NaN</td>\n",
       "      <td>NaN</td>\n",
       "      <td>NaN</td>\n",
       "      <td>NaN</td>\n",
       "      <td>NaN</td>\n",
       "    </tr>\n",
       "    <tr>\n",
       "      <th>1849-10-19</th>\n",
       "      <td>NaN</td>\n",
       "      <td>NaN</td>\n",
       "      <td>NaN</td>\n",
       "      <td>NaN</td>\n",
       "      <td>NaN</td>\n",
       "      <td>NaN</td>\n",
       "      <td>NaN</td>\n",
       "      <td>NaN</td>\n",
       "      <td>NaN</td>\n",
       "      <td>NaN</td>\n",
       "      <td>...</td>\n",
       "      <td>NaN</td>\n",
       "      <td>NaN</td>\n",
       "      <td>NaN</td>\n",
       "      <td>NaN</td>\n",
       "      <td>NaN</td>\n",
       "      <td>NaN</td>\n",
       "      <td>NaN</td>\n",
       "      <td>NaN</td>\n",
       "      <td>NaN</td>\n",
       "      <td>NaN</td>\n",
       "    </tr>\n",
       "    <tr>\n",
       "      <th>...</th>\n",
       "      <td>...</td>\n",
       "      <td>...</td>\n",
       "      <td>...</td>\n",
       "      <td>...</td>\n",
       "      <td>...</td>\n",
       "      <td>...</td>\n",
       "      <td>...</td>\n",
       "      <td>...</td>\n",
       "      <td>...</td>\n",
       "      <td>...</td>\n",
       "      <td>...</td>\n",
       "      <td>...</td>\n",
       "      <td>...</td>\n",
       "      <td>...</td>\n",
       "      <td>...</td>\n",
       "      <td>...</td>\n",
       "      <td>...</td>\n",
       "      <td>...</td>\n",
       "      <td>...</td>\n",
       "      <td>...</td>\n",
       "      <td>...</td>\n",
       "    </tr>\n",
       "    <tr>\n",
       "      <th>2021-03-27</th>\n",
       "      <td>NaN</td>\n",
       "      <td>NaN</td>\n",
       "      <td>NaN</td>\n",
       "      <td>NaN</td>\n",
       "      <td>NaN</td>\n",
       "      <td>NaN</td>\n",
       "      <td>NaN</td>\n",
       "      <td>NaN</td>\n",
       "      <td>NaN</td>\n",
       "      <td>NaN</td>\n",
       "      <td>...</td>\n",
       "      <td>NaN</td>\n",
       "      <td>NaN</td>\n",
       "      <td>NaN</td>\n",
       "      <td>NaN</td>\n",
       "      <td>NaN</td>\n",
       "      <td>NaN</td>\n",
       "      <td>NaN</td>\n",
       "      <td>NaN</td>\n",
       "      <td>NaN</td>\n",
       "      <td>NaN</td>\n",
       "    </tr>\n",
       "    <tr>\n",
       "      <th>2021-03-28</th>\n",
       "      <td>NaN</td>\n",
       "      <td>NaN</td>\n",
       "      <td>NaN</td>\n",
       "      <td>NaN</td>\n",
       "      <td>NaN</td>\n",
       "      <td>NaN</td>\n",
       "      <td>NaN</td>\n",
       "      <td>NaN</td>\n",
       "      <td>NaN</td>\n",
       "      <td>NaN</td>\n",
       "      <td>...</td>\n",
       "      <td>NaN</td>\n",
       "      <td>NaN</td>\n",
       "      <td>NaN</td>\n",
       "      <td>NaN</td>\n",
       "      <td>NaN</td>\n",
       "      <td>NaN</td>\n",
       "      <td>NaN</td>\n",
       "      <td>NaN</td>\n",
       "      <td>NaN</td>\n",
       "      <td>NaN</td>\n",
       "    </tr>\n",
       "    <tr>\n",
       "      <th>2021-03-29</th>\n",
       "      <td>NaN</td>\n",
       "      <td>NaN</td>\n",
       "      <td>NaN</td>\n",
       "      <td>NaN</td>\n",
       "      <td>NaN</td>\n",
       "      <td>NaN</td>\n",
       "      <td>NaN</td>\n",
       "      <td>NaN</td>\n",
       "      <td>NaN</td>\n",
       "      <td>NaN</td>\n",
       "      <td>...</td>\n",
       "      <td>NaN</td>\n",
       "      <td>NaN</td>\n",
       "      <td>NaN</td>\n",
       "      <td>NaN</td>\n",
       "      <td>NaN</td>\n",
       "      <td>NaN</td>\n",
       "      <td>NaN</td>\n",
       "      <td>NaN</td>\n",
       "      <td>NaN</td>\n",
       "      <td>NaN</td>\n",
       "    </tr>\n",
       "    <tr>\n",
       "      <th>2021-03-30</th>\n",
       "      <td>NaN</td>\n",
       "      <td>NaN</td>\n",
       "      <td>NaN</td>\n",
       "      <td>NaN</td>\n",
       "      <td>NaN</td>\n",
       "      <td>NaN</td>\n",
       "      <td>NaN</td>\n",
       "      <td>NaN</td>\n",
       "      <td>NaN</td>\n",
       "      <td>NaN</td>\n",
       "      <td>...</td>\n",
       "      <td>NaN</td>\n",
       "      <td>NaN</td>\n",
       "      <td>NaN</td>\n",
       "      <td>NaN</td>\n",
       "      <td>NaN</td>\n",
       "      <td>NaN</td>\n",
       "      <td>NaN</td>\n",
       "      <td>NaN</td>\n",
       "      <td>NaN</td>\n",
       "      <td>NaN</td>\n",
       "    </tr>\n",
       "    <tr>\n",
       "      <th>2021-03-31</th>\n",
       "      <td>NaN</td>\n",
       "      <td>NaN</td>\n",
       "      <td>NaN</td>\n",
       "      <td>NaN</td>\n",
       "      <td>NaN</td>\n",
       "      <td>NaN</td>\n",
       "      <td>NaN</td>\n",
       "      <td>NaN</td>\n",
       "      <td>NaN</td>\n",
       "      <td>NaN</td>\n",
       "      <td>...</td>\n",
       "      <td>NaN</td>\n",
       "      <td>NaN</td>\n",
       "      <td>NaN</td>\n",
       "      <td>NaN</td>\n",
       "      <td>NaN</td>\n",
       "      <td>NaN</td>\n",
       "      <td>NaN</td>\n",
       "      <td>NaN</td>\n",
       "      <td>NaN</td>\n",
       "      <td>NaN</td>\n",
       "    </tr>\n",
       "  </tbody>\n",
       "</table>\n",
       "<p>47038 rows × 389 columns</p>\n",
       "</div>"
      ],
      "text/plain": [
       "            PRCP  PRCP_US1UTBE0002  PRCP_US1UTBE0003  PRCP_US1UTBE0004  \\\n",
       "1847-10-18   NaN               NaN               NaN               NaN   \n",
       "1848-07-04   NaN               NaN               NaN               NaN   \n",
       "1848-09-30   NaN               NaN               NaN               NaN   \n",
       "1849-06-16   NaN               NaN               NaN               NaN   \n",
       "1849-10-19   NaN               NaN               NaN               NaN   \n",
       "...          ...               ...               ...               ...   \n",
       "2021-03-27   NaN               NaN               NaN               NaN   \n",
       "2021-03-28   NaN               NaN               NaN               NaN   \n",
       "2021-03-29   NaN               NaN               NaN               NaN   \n",
       "2021-03-30   NaN               NaN               NaN               NaN   \n",
       "2021-03-31   NaN               NaN               NaN               NaN   \n",
       "\n",
       "            PRCP_US1UTBE0005  PRCP_US1UTBE0006  PRCP_US1UTBE0008  \\\n",
       "1847-10-18               NaN               NaN               NaN   \n",
       "1848-07-04               NaN               NaN               NaN   \n",
       "1848-09-30               NaN               NaN               NaN   \n",
       "1849-06-16               NaN               NaN               NaN   \n",
       "1849-10-19               NaN               NaN               NaN   \n",
       "...                      ...               ...               ...   \n",
       "2021-03-27               NaN               NaN               NaN   \n",
       "2021-03-28               NaN               NaN               NaN   \n",
       "2021-03-29               NaN               NaN               NaN   \n",
       "2021-03-30               NaN               NaN               NaN   \n",
       "2021-03-31               NaN               NaN               NaN   \n",
       "\n",
       "            PRCP_US1UTBE0009  PRCP_US1UTBE0010  PRCP_US1UTBE0011  ...  \\\n",
       "1847-10-18               NaN               NaN               NaN  ...   \n",
       "1848-07-04               NaN               NaN               NaN  ...   \n",
       "1848-09-30               NaN               NaN               NaN  ...   \n",
       "1849-06-16               NaN               NaN               NaN  ...   \n",
       "1849-10-19               NaN               NaN               NaN  ...   \n",
       "...                      ...               ...               ...  ...   \n",
       "2021-03-27               NaN               NaN               NaN  ...   \n",
       "2021-03-28               NaN               NaN               NaN  ...   \n",
       "2021-03-29               NaN               NaN               NaN  ...   \n",
       "2021-03-30               NaN               NaN               NaN  ...   \n",
       "2021-03-31               NaN               NaN               NaN  ...   \n",
       "\n",
       "            PRCP_USW00024111  PRCP_USW00024120  PRCP_USW00024122  \\\n",
       "1847-10-18               NaN               NaN               NaN   \n",
       "1848-07-04               NaN               NaN               NaN   \n",
       "1848-09-30               NaN               NaN               NaN   \n",
       "1849-06-16               NaN               NaN               NaN   \n",
       "1849-10-19               NaN               NaN               NaN   \n",
       "...                      ...               ...               ...   \n",
       "2021-03-27               NaN               NaN               NaN   \n",
       "2021-03-28               NaN               NaN               NaN   \n",
       "2021-03-29               NaN               NaN               NaN   \n",
       "2021-03-30               NaN               NaN               NaN   \n",
       "2021-03-31               NaN               NaN               NaN   \n",
       "\n",
       "            PRCP_USW00024125  PRCP_USW00024126  PRCP_USW00024127  \\\n",
       "1847-10-18               NaN               NaN               NaN   \n",
       "1848-07-04               NaN               NaN               NaN   \n",
       "1848-09-30               NaN               NaN               NaN   \n",
       "1849-06-16               NaN               NaN               NaN   \n",
       "1849-10-19               NaN               NaN               NaN   \n",
       "...                      ...               ...               ...   \n",
       "2021-03-27               NaN               NaN               NaN   \n",
       "2021-03-28               NaN               NaN               NaN   \n",
       "2021-03-29               NaN               NaN               NaN   \n",
       "2021-03-30               NaN               NaN               NaN   \n",
       "2021-03-31               NaN               NaN               NaN   \n",
       "\n",
       "            PRCP_USW00024175  PRCP_USW00024193  PRCP_USW00053167  \\\n",
       "1847-10-18               NaN               NaN               NaN   \n",
       "1848-07-04               NaN               NaN               NaN   \n",
       "1848-09-30               NaN               NaN               NaN   \n",
       "1849-06-16               NaN               NaN               NaN   \n",
       "1849-10-19               NaN               NaN               NaN   \n",
       "...                      ...               ...               ...   \n",
       "2021-03-27               NaN               NaN               NaN   \n",
       "2021-03-28               NaN               NaN               NaN   \n",
       "2021-03-29               NaN               NaN               NaN   \n",
       "2021-03-30               NaN               NaN               NaN   \n",
       "2021-03-31               NaN               NaN               NaN   \n",
       "\n",
       "            PRCP_USW00094097  \n",
       "1847-10-18               NaN  \n",
       "1848-07-04               NaN  \n",
       "1848-09-30               NaN  \n",
       "1849-06-16               NaN  \n",
       "1849-10-19               NaN  \n",
       "...                      ...  \n",
       "2021-03-27               NaN  \n",
       "2021-03-28               NaN  \n",
       "2021-03-29               NaN  \n",
       "2021-03-30               NaN  \n",
       "2021-03-31               NaN  \n",
       "\n",
       "[47038 rows x 389 columns]"
      ]
     },
     "execution_count": 93,
     "metadata": {},
     "output_type": "execute_result"
    }
   ],
   "source": [
    "prcp_df_lower"
   ]
  },
  {
   "cell_type": "code",
   "execution_count": 99,
   "metadata": {},
   "outputs": [
    {
     "name": "stdout",
     "output_type": "stream",
     "text": [
      "Snow Min: 0.0 Max: 4681.0 Mean: 6.679680489697868\n"
     ]
    }
   ],
   "source": [
    "snow_df = df[df.columns[1:-1:5]]\n",
    "print(\"Snow Min:\", snow_df.min().min(), \"Max:\", snow_df.max().max(), \"Mean:\", snow_df.mean().mean())"
   ]
  },
  {
   "cell_type": "code",
   "execution_count": 100,
   "metadata": {},
   "outputs": [
    {
     "data": {
      "image/png": "[encoded data removed]",
      "text/plain": [
       "<Figure size 432x288 with 1 Axes>"
      ]
     },
     "metadata": {
      "needs_background": "light"
     },
     "output_type": "display_data"
    }
   ],
   "source": [
    "snow = snow_df.values.reshape(-1)\n",
    "plt.hist(snow)\n",
    "plt.show()"
   ]
  },
  {
   "cell_type": "code",
   "execution_count": 101,
   "metadata": {},
   "outputs": [],
   "source": [
    "snow_df_lower = snow_df.apply(lambda x: [y if y <= 500 else np.nan for y in x])"
   ]
  },
  {
   "cell_type": "code",
   "execution_count": 102,
   "metadata": {},
   "outputs": [
    {
     "data": {
      "image/png": "[encoded data removed]",
      "text/plain": [
       "<Figure size 432x288 with 1 Axes>"
      ]
     },
     "metadata": {
      "needs_background": "light"
     },
     "output_type": "display_data"
    }
   ],
   "source": [
    "snow = snow_df_lower.values.reshape(-1)\n",
    "plt.hist(snow)\n",
    "plt.show()"
   ]
  },
  {
   "cell_type": "code",
   "execution_count": 103,
   "metadata": {},
   "outputs": [
    {
     "name": "stdout",
     "output_type": "stream",
     "text": [
      "Snow Min: 0.0 Max: 4826.0 Mean: 117.84730972431532\n"
     ]
    }
   ],
   "source": [
    "snow_df = df[df.columns[2:-1:5]]\n",
    "print(\"Snow Min:\", snow_df.min().min(), \"Max:\", snow_df.max().max(), \"Mean:\", snow_df.mean().mean())"
   ]
  },
  {
   "cell_type": "code",
   "execution_count": 104,
   "metadata": {},
   "outputs": [
    {
     "data": {
      "image/png": "[encoded data removed]",
      "text/plain": [
       "<Figure size 432x288 with 1 Axes>"
      ]
     },
     "metadata": {
      "needs_background": "light"
     },
     "output_type": "display_data"
    }
   ],
   "source": [
    "snow = snow_df.values.reshape(-1)\n",
    "plt.hist(snow)\n",
    "plt.show()"
   ]
  },
  {
   "cell_type": "code",
   "execution_count": 106,
   "metadata": {},
   "outputs": [
    {
     "name": "stdout",
     "output_type": "stream",
     "text": [
      "TMIN Min: -689.0 Max: 2100.0 Mean: 15.516145056704564\n"
     ]
    }
   ],
   "source": [
    "tmin_df = df[df.columns[3:-1:5]]\n",
    "print(\"TMIN Min:\", tmin_df.min().min(), \"Max:\", tmin_df.max().max(), \"Mean:\", tmin_df.mean().mean())"
   ]
  },
  {
   "cell_type": "code",
   "execution_count": 108,
   "metadata": {},
   "outputs": [
    {
     "data": {
      "image/png": "[encoded data removed]",
      "text/plain": [
       "<Figure size 432x288 with 1 Axes>"
      ]
     },
     "metadata": {
      "needs_background": "light"
     },
     "output_type": "display_data"
    }
   ],
   "source": [
    "tmin = tmin_df.values.reshape(-1)\n",
    "plt.hist(tmin)\n",
    "plt.show()"
   ]
  },
  {
   "cell_type": "code",
   "execution_count": 110,
   "metadata": {},
   "outputs": [],
   "source": [
    "tmin_df_lower = tmin_df.apply(lambda x: [y if (y <= 500 and y >= -500) else np.nan for y in x])"
   ]
  },
  {
   "cell_type": "code",
   "execution_count": 111,
   "metadata": {},
   "outputs": [
    {
     "data": {
      "image/png": "[encoded data removed]",
      "text/plain": [
       "<Figure size 432x288 with 1 Axes>"
      ]
     },
     "metadata": {
      "needs_background": "light"
     },
     "output_type": "display_data"
    }
   ],
   "source": [
    "tmin = tmin_df_lower.values.reshape(-1)\n",
    "plt.hist(tmin)\n",
    "plt.show()"
   ]
  },
  {
   "cell_type": "code",
   "execution_count": 119,
   "metadata": {},
   "outputs": [
    {
     "data": {
      "text/plain": [
       "1911-05-25     44.0\n",
       "1911-05-26     56.0\n",
       "1911-05-27    128.0\n",
       "1911-05-28    167.0\n",
       "1911-05-29    156.0\n",
       "              ...  \n",
       "2017-07-07    217.0\n",
       "2017-07-08    217.0\n",
       "2017-07-09    228.0\n",
       "2017-07-10    206.0\n",
       "2017-07-11    211.0\n",
       "Name: TMIN_USW00024175, Length: 37357, dtype: float64"
      ]
     },
     "execution_count": 119,
     "metadata": {},
     "output_type": "execute_result"
    }
   ],
   "source": [
    "tmin_df['TMIN_USW00024175'].dropna()"
   ]
  },
  {
   "cell_type": "code",
   "execution_count": 120,
   "metadata": {},
   "outputs": [
    {
     "name": "stdout",
     "output_type": "stream",
     "text": [
      "TMIN Min: -622.0 Max: 5372.0 Mean: 152.3248364509363\n"
     ]
    }
   ],
   "source": [
    "tmax_df = df[df.columns[4:-1:5]]\n",
    "print(\"TMIN Min:\", tmax_df.min().min(), \"Max:\", tmax_df.max().max(), \"Mean:\", tmax_df.mean().mean())"
   ]
  },
  {
   "cell_type": "code",
   "execution_count": 121,
   "metadata": {},
   "outputs": [
    {
     "data": {
      "image/png": "[encoded data removed]",
      "text/plain": [
       "<Figure size 432x288 with 1 Axes>"
      ]
     },
     "metadata": {
      "needs_background": "light"
     },
     "output_type": "display_data"
    }
   ],
   "source": [
    "tmax = tmax_df.values.reshape(-1)\n",
    "plt.hist(tmax)\n",
    "plt.show()"
   ]
  },
  {
   "cell_type": "code",
   "execution_count": 122,
   "metadata": {},
   "outputs": [],
   "source": [
    "tmax_df_lower = tmax_df.apply(lambda x: [y if (y <= 1000 and y >= -1000) else np.nan for y in x])"
   ]
  },
  {
   "cell_type": "code",
   "execution_count": 124,
   "metadata": {},
   "outputs": [
    {
     "data": {
      "image/png": "[encoded data removed]",
      "text/plain": [
       "<Figure size 432x288 with 1 Axes>"
      ]
     },
     "metadata": {
      "needs_background": "light"
     },
     "output_type": "display_data"
    }
   ],
   "source": [
    "tmax = tmax_df_lower.values.reshape(-1)\n",
    "plt.hist(tmax)\n",
    "plt.show()"
   ]
  },
  {
   "cell_type": "code",
   "execution_count": 125,
   "metadata": {},
   "outputs": [],
   "source": [
    "tmax_df_lower = tmax_df.apply(lambda x: [y if (y <= 700 and y >= -500) else np.nan for y in x])"
   ]
  },
  {
   "cell_type": "code",
   "execution_count": 126,
   "metadata": {},
   "outputs": [
    {
     "data": {
      "image/png": "[encoded data removed]",
      "text/plain": [
       "<Figure size 432x288 with 1 Axes>"
      ]
     },
     "metadata": {
      "needs_background": "light"
     },
     "output_type": "display_data"
    }
   ],
   "source": [
    "tmax = tmax_df_lower.values.reshape(-1)\n",
    "plt.hist(tmax)\n",
    "plt.show()"
   ]
  },
  {
   "cell_type": "code",
   "execution_count": null,
   "metadata": {},
   "outputs": [],
   "source": []
  }
 ],
 "metadata": {
  "kernelspec": {
   "display_name": "Python 3",
   "language": "python",
   "name": "python3"
  },
  "language_info": {
   "codemirror_mode": {
    "name": "ipython",
    "version": 3
   },
   "file_extension": ".py",
   "mimetype": "text/x-python",
   "name": "python",
   "nbconvert_exporter": "python",
   "pygments_lexer": "ipython3",
   "version": "3.7.9"
  }
 },
 "nbformat": 4,
 "nbformat_minor": 4
}
