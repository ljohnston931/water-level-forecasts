{
  "nbformat": 4,
  "nbformat_minor": 0,
  "metadata": {
    "colab": {
      "name": "DownloadStationData.ipynb",
      "provenance": []
    },
    "kernelspec": {
      "name": "python3",
      "display_name": "Python 3"
    }
  },
  "cells": [
    {
      "cell_type": "code",
      "metadata": {
        "id": "ycp_EysNj8gi"
      },
      "source": [
        "import numpy as np\n",
        "import urllib.request\n",
        "from shapely.geometry import Point\n",
        "from shapely.geometry.polygon import Polygon\n",
        "from tqdm import tqdm\n",
        "from pathlib import Path"
      ],
      "execution_count": 1,
      "outputs": []
    },
    {
      "cell_type": "markdown",
      "metadata": {
        "id": "KJIiYApFqCcv"
      },
      "source": [
        "### Get Index of All Weather Stations on NOAA"
      ]
    },
    {
      "cell_type": "code",
      "metadata": {
        "id": "FMEpjBg5dYer"
      },
      "source": [
        "urllib.request.urlretrieve(\"https://www1.ncdc.noaa.gov/pub/data/ghcn/daily/ghcnd-stations.txt\",\n",
        "                           \"ghcnd-stations.txt\")\n",
        "\n",
        "with open(\"ghcnd-stations.txt\",'r') as infile:\n",
        "    data = infile.readlines()"
      ],
      "execution_count": 2,
      "outputs": []
    },
    {
      "cell_type": "markdown",
      "metadata": {
        "id": "yJIxZCWFqJ3Z"
      },
      "source": [
        "### Check Whether Within Drainage Basin"
      ]
    },
    {
      "cell_type": "code",
      "metadata": {
        "id": "_vml7Qy3eMXk"
      },
      "source": [
        "utah_data = np.array([obj.split()[:4] for obj in data if obj.split()[4]==\"UT\"])\n",
        "#GSL_center = (41.1158, -112.4768)\n",
        "#DRAINAGE BASIN POLYGON (coords eyeballed FROM GOOGLE MAPS) See watershed:\n",
        "#https://slco.org/watershed/know-your-local-waters/amazing-great-salt-lake/\n",
        "p1 = (42.285904, -110.697236)\n",
        "p2 = (40.011010, -111.577385)\n",
        "p3 = (40.248643, -114.046179)\n",
        "p4 = (41.991109, -114.056201)"
      ],
      "execution_count": 3,
      "outputs": []
    },
    {
      "cell_type": "code",
      "metadata": {
        "colab": {
          "base_uri": "https://localhost:8080/"
        },
        "id": "cLwq0A5xj4Qj",
        "outputId": "9554494e-2977-491e-c713-089534ffd8c0"
      },
      "source": [
        "points = [Point(float(x),float(y)) for x,y in utah_data[:,[1,2]]]\n",
        "polygon = Polygon([p1,p2,p3,p4])\n",
        "in_basin = np.array([polygon.contains(point) for point in points])\n",
        "print(in_basin.sum(), \"weather stations in the GSL DRAINAGE BASIN\")"
      ],
      "execution_count": 4,
      "outputs": [
        {
          "output_type": "stream",
          "text": [
            "389 weather stations in the GSL DRAINAGE BASIN\n"
          ],
          "name": "stdout"
        }
      ]
    },
    {
      "cell_type": "markdown",
      "metadata": {
        "id": "h3FX24BRqSz9"
      },
      "source": [
        "### Download Data"
      ]
    },
    {
      "cell_type": "code",
      "metadata": {
        "id": "RSMT3a67dncc"
      },
      "source": [
        "basin_codes = utah_data[in_basin][:,0]\n",
        "basin_data_urls = list(map(lambda x:\"https://www1.ncdc.noaa.gov/pub/data/ghcn/daily/all/\"+x+\".dly\",basin_codes))"
      ],
      "execution_count": 5,
      "outputs": []
    },
    {
      "cell_type": "code",
      "metadata": {
        "id": "Euiexn0Im2hX"
      },
      "source": [
        "def download_data(loc = \".\"):\n",
        "    for i,url in tqdm(list(enumerate(basin_data_urls))):\n",
        "        urllib.request.urlretrieve(url, Path(loc)/(basin_codes[i]+\".dly\"))\n",
        "\n",
        "download_data(\".\")"
      ],
      "execution_count": null,
      "outputs": []
    }
  ]
}