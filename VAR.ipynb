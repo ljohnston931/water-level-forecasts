{
 "cells": [
  {
   "cell_type": "code",
   "execution_count": null,
   "id": "anticipated-beads",
   "metadata": {},
   "outputs": [],
   "source": [
    "import numpy as np\n",
    "import pandas as pd\n",
    "from matplotlib import pyplot as plt\n",
    "import statsmodels as sm\n",
    "from statsmodels.tsa.arima.model import ARIMA\n",
    "from statsmodels.tsa.api import VAR"
   ]
  },
  {
   "cell_type": "code",
   "execution_count": null,
   "id": "contained-whole",
   "metadata": {},
   "outputs": [],
   "source": [
    "data = pd.read_csv('Best_30_Years_Monthly.csv')"
   ]
  },
  {
   "cell_type": "code",
   "execution_count": null,
   "id": "underlying-scanner",
   "metadata": {},
   "outputs": [],
   "source": [
    "data"
   ]
  },
  {
   "cell_type": "code",
   "execution_count": null,
   "id": "organized-crack",
   "metadata": {},
   "outputs": [],
   "source": [
    "data['depth'].plot()"
   ]
  },
  {
   "cell_type": "markdown",
   "id": "great-context",
   "metadata": {},
   "source": [
    "(5, 320)"
   ]
  },
  {
   "cell_type": "code",
   "execution_count": null,
   "id": "usual-tackle",
   "metadata": {},
   "outputs": [],
   "source": [
    "def VAR_forecast(k, n):\n",
    "    \n",
    "    \"\"\"\n",
    "    Uses a VAR model to make a forecast of length k.\n",
    "    \n",
    "    Parameters:\n",
    "        k (int): forecast length\n",
    "        n (int): forecast start point (must be <= 359-k)\n",
    "    \n",
    "    Returns:\n",
    "        forecast (k, ndarray)\n",
    "        error (float): average L^2 error\n",
    "    \"\"\"\n",
    "\n",
    "    # Select desired data (throw away first column, take difference, then throw away first row)\n",
    "    X = data.iloc[:, 1:].diff()[1:]\n",
    "\n",
    "    # Create VAR model\n",
    "    model = VAR(X[:n])\n",
    "\n",
    "    # Fit the model \n",
    "    #results = model.fit(maxlags=6, ic='aic')\n",
    "    results = model.fit(12)\n",
    "\n",
    "    # Forecast \n",
    "    lag_order = results.k_ar\n",
    "    forecast1 = results.forecast(X.values[-lag_order:], k)\n",
    "\n",
    "    # Plot results\n",
    "    plt.figure(figsize=(6,4), dpi=300)\n",
    "    plt.plot(np.arange(n+k-36, n+k), X.iloc[n+k-36:n+k, -1], label='True')\n",
    "    plt.plot(np.arange(n, n+k), forecast1[:, -1], label='Forecast')\n",
    "\n",
    "    # Label\n",
    "    plt.ylabel('Monthly Change in Lake Level')\n",
    "    plt.xlabel('Months since December 1958')\n",
    "    plt.title('Using a VAR model to Predict Changes in Lake Level')\n",
    "    plt.legend(loc='lower left')\n",
    "    plt.show()\n",
    "    \n",
    "    \n",
    "    # Calcalute mean squared error\n",
    "    mse = np.sum((X.iloc[n:n+k, -1]-forecast1[:, -1])**2)/k\n",
    "    \n",
    "    return forecast1[:, -1], mse\n",
    "    "
   ]
  },
  {
   "cell_type": "code",
   "execution_count": null,
   "id": "meaning-allen",
   "metadata": {},
   "outputs": [],
   "source": [
    "# Length of forecast \n",
    "k = 20\n",
    "\n",
    "# Start point (<= 359-k)\n",
    "n = 320\n",
    "\n",
    "forecast, mse = VAR_forecast(k, n)"
   ]
  },
  {
   "cell_type": "code",
   "execution_count": null,
   "id": "subsequent-evolution",
   "metadata": {},
   "outputs": [],
   "source": [
    "mses = np.nan*np.zeros((12, 359))\n",
    "\n",
    "for k in range(1, 12):\n",
    "    for n in range(12*10, 359-k):\n",
    "        print(f'k = {k}, n = {n}')\n",
    "        forecast, mse = VAR_forecast(k, n)\n",
    "        mses[k, n] = mse"
   ]
  },
  {
   "cell_type": "code",
   "execution_count": null,
   "id": "heated-chassis",
   "metadata": {},
   "outputs": [],
   "source": [
    "s = np.nanmean(mses, axis=1)"
   ]
  },
  {
   "cell_type": "code",
   "execution_count": null,
   "id": "occasional-sequence",
   "metadata": {},
   "outputs": [],
   "source": [
    "# Plot results\n",
    "plt.figure(figsize=(6,4), dpi=300)\n",
    "plt.plot(np.arange(12), s)\n",
    "#plt.ylim(bottom=0)\n",
    "\n",
    "# Label\n",
    "plt.ylabel('Forecast Mean Squared Error')\n",
    "plt.xlabel('Forecast Length (Months)')\n",
    "plt.title('MSE of VAR Lake-Level Forecast')\n",
    "plt.savefig('MSE_forecast_length1.pdf', dpi=300, bbox_inches='tight')\n",
    "plt.show()\n"
   ]
  },
  {
   "cell_type": "code",
   "execution_count": null,
   "id": "hydraulic-abortion",
   "metadata": {},
   "outputs": [],
   "source": [
    "u =  np.nanmean(mses, axis=0)"
   ]
  },
  {
   "cell_type": "code",
   "execution_count": null,
   "id": "usual-brooks",
   "metadata": {},
   "outputs": [],
   "source": [
    "# Plot results\n",
    "plt.figure(figsize=(6,4), dpi=300)\n",
    "plt.plot(np.arange(359), u, zorder=0)\n",
    "plt.scatter(np.arange(359)[::12], u[::12], s=10, marker='*', color='red', zorder=1, label='Multiples of 12')\n",
    "#plt.ylim(bottom=0)\n",
    "\n",
    "# Label\n",
    "plt.ylabel('Forecast Mean Squared Error')\n",
    "plt.xticks(12*np.arange(10, 30)[::2])\n",
    "plt.xlabel('Training Data Duration (Months)')\n",
    "plt.title('MSE of VAR Lake-Level Forecast')\n",
    "plt.legend(loc='upper left')\n",
    "plt.savefig('MSE_training_duration1.pdf', dpi=300, bbox_inches='tight')\n",
    "plt.show()"
   ]
  },
  {
   "cell_type": "code",
   "execution_count": null,
   "id": "activated-flexibility",
   "metadata": {},
   "outputs": [],
   "source": [
    "12*np.arange(10, 30)"
   ]
  },
  {
   "cell_type": "code",
   "execution_count": null,
   "id": "educational-arctic",
   "metadata": {},
   "outputs": [],
   "source": [
    "plt.scatter?"
   ]
  },
  {
   "cell_type": "code",
   "execution_count": null,
   "id": "overhead-mistress",
   "metadata": {},
   "outputs": [],
   "source": []
  }
 ],
 "metadata": {
  "kernelspec": {
   "display_name": "Python 3",
   "language": "python",
   "name": "python3"
  },
  "language_info": {
   "codemirror_mode": {
    "name": "ipython",
    "version": 3
   },
   "file_extension": ".py",
   "mimetype": "text/x-python",
   "name": "python",
   "nbconvert_exporter": "python",
   "pygments_lexer": "ipython3",
   "version": "3.8.5"
  }
 },
 "nbformat": 4,
 "nbformat_minor": 5
}
